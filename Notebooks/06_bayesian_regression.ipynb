{
 "cells": [
  {
   "cell_type": "markdown",
   "id": "65165768",
   "metadata": {},
   "source": [
    "<a href=\"https://colab.research.google.com/github/DavideScassola/PML2024/blob/main/./Notebooks/06_bayesian_LR.ipynb\" target=\"_parent\"><img src=\"https://colab.research.google.com/assets/colab-badge.svg\" alt=\"Open In Colab\"/></a>"
   ]
  },
  {
   "cell_type": "markdown",
   "metadata": {},
   "source": [
    "# Notebook 6: Bayesian Linear Regression & Classification\n",
    "\n",
    "Probabilistic Machine Learning -- Spring 2024, UniTS\n"
   ]
  },
  {
   "cell_type": "markdown",
   "metadata": {},
   "source": [
    "In this notebook, we explore linear regression and classification from a Bayesian point of view. In both cases, we start implementing the classical formulation and then we switch to the Bayesian version. We can then compare the methods on a simple example."
   ]
  },
  {
   "cell_type": "code",
   "execution_count": null,
   "metadata": {},
   "outputs": [],
   "source": [
    "import pandas as pd\n",
    "import numpy as np\n",
    "import matplotlib.pyplot as plt"
   ]
  },
  {
   "cell_type": "markdown",
   "metadata": {},
   "source": [
    "## Linear Regression\n",
    "\n",
    "The first model that we implement is the well known linear regression model and we use the \"linear algebra view\" that we studied during the lessons.\n",
    "\n",
    "As a case study, we use the [Kaggle dataset](https://www.kaggle.com/datasets/budincsevity/szeged-weather/data) about Weather in Szeged (Hungary) between 2006 and 2016 and we try to predict the apparent temperature given some predictors.\n",
    "\n"
   ]
  },
  {
   "cell_type": "code",
   "execution_count": null,
   "metadata": {},
   "outputs": [],
   "source": [
    "weatherHistory = pd.read_csv('https://raw.githubusercontent.com/DavideScassola/PML2024/main/Notebooks/data/weatherHistory.csv')\n",
    "weatherHistory.head(5)"
   ]
  },
  {
   "cell_type": "code",
   "execution_count": null,
   "metadata": {},
   "outputs": [],
   "source": [
    "weatherHistory.info()"
   ]
  },
  {
   "cell_type": "code",
   "execution_count": null,
   "metadata": {},
   "outputs": [],
   "source": [
    "#Let's reduce the size of the dataset by considering one row for each day (corresponding to 16:00), only in 2015\n",
    "#Training: April, Test: May\n",
    "weatherHistory['Formatted Date'] = pd.to_datetime(weatherHistory['Formatted Date'], utc=True)\n",
    "data = weatherHistory[((weatherHistory['Formatted Date'].dt.hour == 16) & (weatherHistory['Formatted Date'].dt.year == 2014) & (weatherHistory['Formatted Date'].dt.month == 4))].reset_index(drop=True)\n",
    "data.info()\n",
    "data_test = weatherHistory[((weatherHistory['Formatted Date'].dt.hour == 16) & (weatherHistory['Formatted Date'].dt.year == 2014) & (weatherHistory['Formatted Date'].dt.month == 5))].reset_index(drop=True)\n"
   ]
  },
  {
   "cell_type": "code",
   "execution_count": null,
   "metadata": {},
   "outputs": [],
   "source": [
    "plt.scatter(data[\"Apparent Temperature (C)\"], data[\"Humidity\"], label = \"train\")\n",
    "plt.scatter(data_test[\"Apparent Temperature (C)\"], data_test[\"Humidity\"], label = \"test\")\n",
    "\n",
    "plt.xlabel(\"Humidity\")\n",
    "plt.ylabel(\"Apparent Temperature (C)\")\n",
    "plt.title(\"Apparent Temperature vs Humidity\")"
   ]
  },
  {
   "cell_type": "markdown",
   "metadata": {},
   "source": [
    "In order to perform the linear regression, we follow the maximum likelihood approach:\n",
    "$$\\theta_{ML} = \\text{argmax } p(\\underline{y} | \\underline{x}, \\theta)$$\n",
    "\n",
    "and we define our parametric model as:\n",
    "$$p(y|x, \\theta) = \\mathcal{N}(y|f(x,w), \\beta^{-1})$$\n",
    "\n",
    "where \n",
    "\n",
    "$$f(x,w) = w_0 \\phi_0(x) + \\ldots + w_{M-1}\\phi_{M-1}(x)$$\n",
    "\n",
    "with $\\phi$ basis functions.\n",
    "\n",
    "The weighs can be computed by:\n",
    "\n",
    "$$w_M = \\left( \\Phi^T \\Phi \\right)^{-1} \\Phi^T \\underline{y}$$\n",
    "\n",
    "where $\\Phi$ is the design matrix."
   ]
  },
  {
   "cell_type": "code",
   "execution_count": null,
   "metadata": {},
   "outputs": [],
   "source": [
    "def linear_basis(x):\n",
    "    return x\n",
    "\n",
    "def linear_regression(x,y,basis_function):\n",
    "    \n",
    "    N = len(y)\n",
    "    train_features = basis_function(x)\n",
    "   \n",
    "    X = np.hstack((np.ones((N,1)), train_features))\n",
    "    print(f'matrice delle features: {X}')\n",
    "   \n",
    "    A = np.linalg.inv(X.T @ X)\n",
    "    D = A @ X.T\n",
    "    w = D @ y\n",
    "   \n",
    "    return np.dot(X, w), w\n",
    "\n",
    "def predict_linear_regression(x,N,w,basis_function):\n",
    "    \n",
    "    train_features = basis_function(x)\n",
    "    X = np.hstack((np.ones((N,1)), train_features))\n",
    "    return np.dot(X, w)"
   ]
  },
  {
   "cell_type": "markdown",
   "metadata": {},
   "source": [
    "We can perform the linear regression on the dataset and compute:\n",
    "\n",
    "- Mean Squared Error (MSE): $$\\text{MSE} = \\frac{1}{N} \\sum_{i=1}^N (y_i - \\hat{y}_i)^2$$\n",
    "- Log Likelihood: $$\\sum_i -\\frac{1}{2} \\log(2\\pi\\sigma_i^2) - \\frac{(y_i - \\mu_i)^2}{2\\sigma_i^2}$$\n"
   ]
  },
  {
   "cell_type": "code",
   "execution_count": null,
   "metadata": {},
   "outputs": [],
   "source": [
    "#in this case x and y are row vectors, so we need to convert them to column vectors\n",
    "x = data[\"Humidity\"].to_numpy().reshape(-1,1)\n",
    "y = data[\"Apparent Temperature (C)\"].to_numpy().reshape(-1,1)\n",
    "\n",
    "print(\"X (Humidity) vs Y (Apparent Temperature):\")\n",
    "\n",
    "beta = 0.01\n",
    "print(np.sqrt(1/beta))\n",
    "\n",
    "y_pred_linear, w = linear_regression(x,y,linear_basis)\n",
    "print(\"X (Humidity) vs Y (Apparent Temperature) vs Y (prediction):\")\n",
    "print(np.hstack([x, y, y_pred_linear]))\n",
    "print(\"w:\")\n",
    "print(w)\n",
    "\n",
    "plt.scatter(data[\"Humidity\"], data[\"Apparent Temperature (C)\"], label = 'Data')\n",
    "plt.scatter(data[\"Humidity\"].to_numpy(), y_pred_linear, label = 'Predictions')\n",
    "plt.xlabel(\"Humidity\")\n",
    "plt.ylabel(\"Apparent Temperature (C)\")\n",
    "plt.title(\"Linear Regression\")\n",
    "plt.legend()\n",
    "plt.show()\n",
    "\n",
    "print(\"MSE:\")\n",
    "print(np.mean((y_pred_linear.T-y)**2))\n",
    "print(\"Log Likelihood:\")\n",
    "print(-len(y)/2*np.log(2*np.pi)-len(y)/2*np.log(1/beta) - 1/2*beta*np.sum((y_pred_linear.T-y)**2))"
   ]
  },
  {
   "cell_type": "code",
   "execution_count": null,
   "metadata": {},
   "outputs": [],
   "source": [
    "#Let's see now on the test set\n",
    "\n",
    "x_test = data_test[\"Humidity\"].to_numpy().reshape(-1,1)\n",
    "y_test = data_test[\"Apparent Temperature (C)\"].to_numpy().reshape(-1,1)\n",
    "\n",
    "y_test_pred= predict_linear_regression(x_test,len(x_test),w,linear_basis)\n",
    "\n",
    "plt.scatter(data_test[\"Humidity\"], data_test[\"Apparent Temperature (C)\"], label = 'Data')\n",
    "plt.scatter(data_test[\"Humidity\"].to_numpy(), y_test_pred, label = 'Predictions')\n",
    "plt.xlabel(\"Humidity\")\n",
    "plt.ylabel(\"Apparent Temperature (C)\")\n",
    "plt.title(\"Linear Regression (test data)\")\n",
    "plt.legend()\n",
    "plt.show()\n",
    "\n",
    "print(\"MSE:\")\n",
    "print(np.mean((y_test_pred.T-y_test)**2))\n",
    "print(\"Log Likelihood:\")\n",
    "print(-len(y_test)/2*np.log(2*np.pi*1/beta) - 1/2*np.sum((y_test_pred.T-y_test)**2*beta))\n"
   ]
  },
  {
   "cell_type": "code",
   "execution_count": null,
   "metadata": {},
   "outputs": [],
   "source": [
    "#Let's try to change the basis function\n",
    "\n",
    "def square_basis(x):\n",
    "    return  x**2   \n",
    "def square_basis_5(x):\n",
    "    return  x + x**2   \n",
    "def square_basis_2(x):\n",
    "    return np.hstack((x,x**2,x**3))\n",
    "def square_basis_3(x):\n",
    "    return np.hstack((x,x**2,x**3,x**4,x**5,x**6,x**7,x**8,x**9,x**10,x**11,x**12,x**13,x**14,x**15,x**16,x**17,x**18,x**19))\n",
    "\n",
    "print(square_basis_2(2))\n",
    "\n",
    "y_pred_1, w = linear_regression(x,y,linear_basis)\n",
    "y_pred_2, w = linear_regression(x,y,square_basis)\n",
    "y_pred_3, w = linear_regression(x,y,square_basis_5)\n",
    "y_pred_4, w = linear_regression(x,y,square_basis_3)\n",
    "# print('w:')\n",
    "# print(w)\n",
    "\n",
    "plt.scatter(data[\"Humidity\"], data[\"Apparent Temperature (C)\"], label = 'Data')\n",
    "plt.scatter(data[\"Humidity\"].to_numpy(), y_pred_1, label = 'Predictions linear')\n",
    "plt.scatter(data[\"Humidity\"].to_numpy(), y_pred_2, label = 'Predictions square')\n",
    "plt.scatter(data[\"Humidity\"].to_numpy(), y_pred_3, label = 'Predictions square_2')\n",
    "# plt.scatter(data[\"Humidity\"].to_numpy(), y_pred_4, label = 'Predictions square_3')\n",
    "plt.xlabel(\"Humidity\")\n",
    "plt.ylabel(\"Apparent Temperature (C)\")\n",
    "plt.title(\"Linear Regression\")\n",
    "plt.legend()\n",
    "plt.show()\n",
    "\n",
    "# print(\"MSE:\")\n",
    "# print(np.mean((y_pred.T-y)**2))\n",
    "# print(\"Log Likelihood:\")\n",
    "# print(-len(y)/2*np.log(2*np.pi)-len(y)/2*np.log(1/beta) - 1/2*beta*np.sum((y_pred.T-y)**2))"
   ]
  },
  {
   "cell_type": "code",
   "execution_count": null,
   "metadata": {},
   "outputs": [],
   "source": [
    "#We can also consider more predictors\n",
    "\n",
    "x = data[[\"Temperature (C)\", \"Humidity\", \"Wind Speed (km/h)\"]].to_numpy()\n",
    "y = data[\"Apparent Temperature (C)\"].to_numpy().reshape(-1,1)\n",
    "\n",
    "y_pred, w = linear_regression(x,y,linear_basis)\n",
    "\n",
    "fig, ax = plt.subplots()\n",
    "scatter = ax.scatter(data[\"Temperature (C)\"], data[\"Humidity\"], s = data[\"Wind Speed (km/h)\"]*2, c = y_pred)\n",
    "legend1 = ax.legend(*scatter.legend_elements(), loc = 'upper right', title=\"Predicted App. Temp.\")\n",
    "ax.add_artist(legend1)\n",
    "handles, labels = scatter.legend_elements(prop=\"sizes\", alpha=0.6)\n",
    "legend2 = ax.legend(handles, labels, loc = 'lower left', title=\"Wind Speed\")\n",
    "\n",
    "plt.title(\"Linear Regression with more predictors\")\n",
    "plt.ylabel(\"Humidity\")\n",
    "plt.xlabel(\"Temperature (C)\")\n",
    "plt.show()\n",
    "\n",
    "print(\"MSE:\")\n",
    "print(np.mean((y_pred.T-y)**2))\n",
    "print(\"Log Likelihood:\")\n",
    "print(-len(y)/2*np.log(2*np.pi)-len(y)/2*np.log(1/beta) - 1/2*beta*np.sum((y_pred.T-y)**2))\n",
    "print(\"Weights:\")\n",
    "print(w)"
   ]
  },
  {
   "cell_type": "markdown",
   "metadata": {},
   "source": [
    "## Bayesian Linear Regression\n",
    "\n",
    "We now consider a prior distribution on the weights, which in this case is:\n",
    "\n",
    "$$p(w|\\alpha) = \\mathcal{N}(w| 0, \\alpha^{-1} I)$$\n",
    "\n",
    "So, we can use Bayes theorem to compute the posterior:\n",
    "\n",
    "$$    p(w| \\underline{x}, \\underline{y}, \\alpha, \\beta) = \\frac{p(\\underline{y}| \\underline{x}, w, \\beta) p(w|\\alpha)}{p(\\underline{y}| \\underline{x}, \\alpha, \\beta)}$$\n",
    "\n",
    "and notice that it is a Gaussian distribution:\n",
    "\n",
    "$$p(w|\\underline{x}, \\underline{y}, \\alpha, \\beta) = \\mathcal{N} (w | m_N, S_N)$$\n",
    "\n",
    "where \n",
    "\n",
    "$$m_N = \\beta S_N \\Phi^T \\underline{y}$$\n",
    "$$S_N^{-1} = \\alpha I + \\beta \\Phi^T \\Phi$$\n",
    "\n",
    "Once we have the posterior distribution, we can calculate the predictive distribution as:\n",
    "\n",
    "$$p(y|x, \\underline{x} , \\underline{y}, \\alpha, \\beta)  = \\mathcal{N} \\left(y| m_N^T \\phi(x), \\sigma_N^2(x) \\right)$$\n",
    "\n",
    "where \n",
    "\n",
    "$$\\sigma_N^2(x) = \\frac{1}{\\beta} + \\phi^T(x) S_N \\phi(x)$$\n",
    "\n",
    "For simplicity and for visualizing the result, we test on a single predictor."
   ]
  },
  {
   "cell_type": "code",
   "execution_count": null,
   "metadata": {},
   "outputs": [],
   "source": [
    "#Bayesian Regression with alpha and beta fixed and a gaussian prior\n",
    "\n",
    "def bayesian_linear_regression(x,y,basis_function, alpha, beta):\n",
    "    N = len(y)\n",
    "    train_features = basis_function(x)\n",
    "    \n",
    "    X = np.hstack((np.ones((N,1)), train_features))\n",
    "    # print(f'matrice delle features: {X.T}')\n",
    "    \n",
    "    SN_inv = alpha*np.eye(X.shape[1]) + beta*X.T @ X\n",
    "    # print(f' alpha * I : {alpha*np.eye(X.shape[1])}')\n",
    "    SN = np.linalg.inv(SN_inv)  # covariance posterior distribution\n",
    "    mN = beta * SN @ X.T @ y    # mean posterior distribution\n",
    "    \n",
    "    return np.dot(mN.T, X.T), np.sqrt(1/beta + np.diag(X @ SN @ X.T)), mN, SN\n",
    "\n",
    "def predict_bayesian_linear_regression(mN, SN, N, x, basis_function, beta):\n",
    "    train_features = basis_function(x)\n",
    "    X = np.hstack((np.ones((N,1)), train_features))\n",
    "    mean = np.dot(mN.T, X.T)[0]                       # mean predictive distribution\n",
    "    sigma = np.sqrt(1/beta + np.diag(X @ SN @ X.T))   # variance predictive distribution\n",
    "    return mean, sigma\n",
    "\n",
    "def plot_bayesian_LR(mN, SN, N, x, basis_function, beta):\n",
    "    mean, sigma = predict_bayesian_linear_regression(mN, SN, N, x, basis_function, beta)\n",
    "    plt.plot(x.T[0],mean)\n",
    "    plt.fill_between(x.T[0], mean-sigma, mean+sigma, alpha=0.3)\n"
   ]
  },
  {
   "cell_type": "code",
   "execution_count": null,
   "metadata": {},
   "outputs": [],
   "source": [
    "x = data[\"Humidity\"].to_numpy().reshape(-1,1)\n",
    "y = data[\"Apparent Temperature (C)\"].to_numpy().reshape(-1,1)\n",
    "\n",
    "x_test = data_test[\"Humidity\"].to_numpy().reshape(-1,1)\n",
    "y_test = data_test[\"Apparent Temperature (C)\"].to_numpy().reshape(-1,1)\n",
    "\n",
    "alpha = 0.002\n",
    "\n",
    "\n",
    "y_pred_bayes, sigma_pred, mN, SN = bayesian_linear_regression(x,y,linear_basis, alpha, beta)\n",
    "print(\"MSE (training set):\")\n",
    "print(np.mean((y_pred_bayes-y)**2))\n",
    "print(\"Log Likelihood (training set):\")\n",
    "print(-1/2*np.sum(np.log(2*np.pi*sigma_pred**2)) - 1/2*np.sum(((y_pred_bayes-y)**2)/(sigma_pred**2)))\n",
    "\n",
    "mean, sigma = predict_bayesian_linear_regression(mN, SN, len(x_test), x_test, linear_basis, beta)\n",
    "# print(f' mN: {mN}')\n",
    "# print(f' SN: {SN}')\n",
    "# print(f' X_test.T: {x_test.T}')\n",
    "# print(np.hstack([x_test, mean.reshape(-1,1), sigma.reshape(-1,1)]))\n",
    "print(\"MSE (test set):\")\n",
    "print(np.mean((mean-y_test)**2))\n",
    "print(\"Log Likelihood (test set):\")\n",
    "print(-1/2*np.sum(np.log(2*np.pi*sigma**2)) - 1/2*np.sum(((mean-y_test)**2)/(sigma**2)))\n",
    "\n",
    "\n",
    "\n",
    "#FOR 1D features, we can plot the regression\n",
    "xrange=np.linspace(0, 1, 100).reshape(-1,1)\n",
    "plot_bayesian_LR(mN, SN, len(xrange), xrange, linear_basis, beta)\n",
    "\n",
    "plt.scatter(data[\"Humidity\"], data[\"Apparent Temperature (C)\"], label='Data training')\n",
    "plt.scatter(data_test[\"Humidity\"], data_test[\"Apparent Temperature (C)\"], label='Data test')\n",
    "\n",
    "plt.xlabel(\"Humidity\")\n",
    "plt.ylabel(\"Apparent Temperature (C)\")\n",
    "plt.title(\"Bayesian Linear Regression\")\n",
    "plt.legend()\n",
    "plt.show()"
   ]
  },
  {
   "cell_type": "markdown",
   "metadata": {},
   "source": [
    "## Logistic Regression"
   ]
  },
  {
   "cell_type": "markdown",
   "metadata": {},
   "source": [
    "### The problem"
   ]
  },
  {
   "cell_type": "markdown",
   "metadata": {},
   "source": [
    "Given observations $(\\textbf{x}_i, y_i)$ with $x_i \\in \\mathbb{R}^d$ and $y_i \\in \\{0,1\\}$ we want to model $p(y | \\textbf{x})$.\n",
    "\n",
    "**Notation**\n",
    "\n",
    "$\\textbf{X}$: the dataset of input features $\\textbf{x}_i$\n",
    "\n",
    "$\\textbf{Y}$: the dataset of targets $y_i$"
   ]
  },
  {
   "cell_type": "code",
   "execution_count": 40,
   "metadata": {},
   "outputs": [
    {
     "name": "stdout",
     "output_type": "stream",
     "text": [
      " total data\n",
      "     feature_0  feature_1  target\n",
      "0    0.441227  -0.330870       0\n",
      "1    2.430771  -0.252092       0\n",
      "2    0.109610   1.582481       0\n",
      "3   -0.909232  -0.591637       1\n",
      "4    0.187603  -0.329870       0\n",
      "..        ...        ...     ...\n",
      "95   0.249817   1.147202       0\n",
      "96   0.835944   0.287404       0\n",
      "97  -0.995596   0.906889       1\n",
      "98   0.024211  -0.239982       1\n",
      "99   0.910111   0.617845       0\n",
      "\n",
      "[100 rows x 3 columns]\n",
      "train data\n",
      "    feature_0  feature_1  target\n",
      "0  -0.063461  -0.500996       0\n",
      "1   1.579113  -0.409813       0\n",
      "2  -0.337246   1.713631       0\n",
      "3  -1.178406  -0.802822       1\n",
      "test data\n",
      "     feature_0  feature_1  target\n",
      "0   -0.272854  -0.499838       0\n",
      "1   -1.412491  -0.355163       1\n",
      "2   -0.723991   0.580467       1\n",
      "3   -1.802196  -0.928456       0\n",
      "4    0.522852   2.031759       0\n",
      "..        ...        ...     ...\n",
      "91  -0.221490   1.209813       0\n",
      "92   0.262418   0.214631       0\n",
      "93  -1.249708   0.931661       1\n",
      "94  -0.407752  -0.395796       1\n",
      "95   0.323650   0.597104       0\n",
      "\n",
      "[96 rows x 3 columns]\n"
     ]
    }
   ],
   "source": [
    "import numpy as np\n",
    "import pandas as pd\n",
    "import os\n",
    "import requests\n",
    "\n",
    "\n",
    "# URL of the file to download\n",
    "url = 'https://raw.githubusercontent.com/DavideScassola/PML2024/main/Notebooks/data/logistic_regression_data.npz'\n",
    "\n",
    "# Send a HTTP request to the URL of the file\n",
    "response = requests.get(url)\n",
    "\n",
    "# Ensure the 'data/' directory exists\n",
    "os.makedirs('data', exist_ok=True)\n",
    "\n",
    "# Write the file\n",
    "with open('data/logistic_regression_data.npz', 'wb') as f:\n",
    "    f.write(response.content)\n",
    "\n",
    "# loading the dataset\n",
    "X = np.load('data/logistic_regression_data.npz')['X']\n",
    "y = np.load('data/logistic_regression_data.npz')['y']\n",
    "\n",
    "# Crea un DataFrame\n",
    "df = pd.DataFrame(X, columns=[f'feature_{i}' for i in range(X.shape[1])])\n",
    "df['target'] = y\n",
    "print(f' total data\\n {df}')\n",
    "\n",
    "\n",
    "# let's split it into train and test set and normalize it\n",
    "def split_and_standardize(*, X, y, ratio=0.8):\n",
    "    \n",
    "    # Splitting train and test sets\n",
    "    cut = int(ratio * len(y))\n",
    "    X_train = X[:cut]\n",
    "    y_train = y[:cut]\n",
    "    \n",
    "    X_test = X[cut:]\n",
    "    y_test = y[cut:]\n",
    "    \n",
    "    # Standardizing data\n",
    "    x_mean = X_train.mean(axis=0)\n",
    "    x_std = X_train.std(axis=0)\n",
    "    \n",
    "    X_train = (X_train - x_mean) / x_std\n",
    "    X_test = (X_test - x_mean) / x_std\n",
    "    \n",
    "    return X_train, y_train, X_test, y_test\n",
    "\n",
    "X_train, y_train, X_test, y_test = split_and_standardize(X=X, y=y, ratio=0.04)\n",
    "\n",
    "df = pd.DataFrame(X_train, columns=[f'feature_{i}' for i in range(X_train.shape[1])])\n",
    "df['target'] = y_train\n",
    "print(f'train data\\n {df}')\n",
    "\n",
    "df = pd.DataFrame(X_test, columns=[f'feature_{i}' for i in range(X_test.shape[1])])\n",
    "df['target'] = y_test\n",
    "print(f'test data\\n {df}')"
   ]
  },
  {
   "cell_type": "code",
   "execution_count": 41,
   "metadata": {},
   "outputs": [
    {
     "data": {
      "image/png": "[encoded data removed]",
      "text/plain": [
       "<Figure size 640x480 with 1 Axes>"
      ]
     },
     "metadata": {},
     "output_type": "display_data"
    }
   ],
   "source": [
    "import matplotlib.pyplot as plt\n",
    "\n",
    "_ = plt.scatter(X_train[:, 0], X_train[:, 1], c=y_train)\n",
    "_ = plt.scatter(X_test[:, 0], X_test[:, 1], c=y_test, marker='x')"
   ]
  },
  {
   "cell_type": "markdown",
   "metadata": {},
   "source": [
    "### The model"
   ]
  },
  {
   "cell_type": "markdown",
   "metadata": {},
   "source": [
    "In logistic regression $p(y | \\textbf{x})$ is modelled as:\n",
    "\n",
    "$$p_{\\textbf{w}}(y |  \\textbf{x}) = Bernoulli(y; f(\\textbf{w}^{T} \\textbf{x})) $$\n",
    "\n",
    "where $f : \\mathbb{R} \\rightarrow [0,1]$ is usually chosen to be the Logit $ \\left( ({1 + e^{-k}})^{-1} \\right)$ or the Probit.\n",
    "\n",
    "Why $\\textbf{w}^{T} \\textbf{x}$ and not $\\textbf{w}^{T} \\textbf{x} + h$? For simplicity we prefer to avoid explicitly modelling the bias and we equivalently add a \"1\" as a feature to each data point. "
   ]
  },
  {
   "cell_type": "code",
   "execution_count": 42,
   "metadata": {},
   "outputs": [
    {
     "name": "stdout",
     "output_type": "stream",
     "text": [
      "X_train: [[ 1.         -0.06346129 -0.50099568]\n",
      " [ 1.          1.57911298 -0.40981329]\n",
      " [ 1.         -0.33724598  1.71363139]\n",
      " [ 1.         -1.17840571 -0.80282242]]\n",
      "X_test: [[ 1.00000000e+00 -2.72854366e-01 -4.99837999e-01]\n",
      " [ 1.00000000e+00 -1.41249090e+00 -3.55163115e-01]\n",
      " [ 1.00000000e+00 -7.23990686e-01  5.80467288e-01]\n",
      " [ 1.00000000e+00 -1.80219550e+00 -9.28455853e-01]\n",
      " [ 1.00000000e+00  5.22852211e-01  2.03175908e+00]\n",
      " [ 1.00000000e+00 -1.67537539e+00  6.28358237e-01]\n",
      " [ 1.00000000e+00 -1.23733356e+00 -1.10979984e+00]\n",
      " [ 1.00000000e+00 -1.14756676e+00 -6.07062722e-01]\n",
      " [ 1.00000000e+00  3.94923971e-01  7.06572144e-01]\n",
      " [ 1.00000000e+00 -3.78910553e-01 -5.38544518e-01]\n",
      " [ 1.00000000e+00 -4.25024967e-01 -2.40637023e-01]\n",
      " [ 1.00000000e+00  2.27007356e-01 -8.49045540e-01]\n",
      " [ 1.00000000e+00 -4.32854786e-01 -2.35008493e-01]\n",
      " [ 1.00000000e+00 -4.70926041e-01  1.70432608e-01]\n",
      " [ 1.00000000e+00 -2.64551383e-01  1.42700669e+00]\n",
      " [ 1.00000000e+00 -4.99465053e-01  1.68938397e+00]\n",
      " [ 1.00000000e+00 -6.80253576e-01 -6.70981686e-01]\n",
      " [ 1.00000000e+00 -3.44570446e-01  2.93378924e-01]\n",
      " [ 1.00000000e+00 -2.05147299e-01  1.37736881e+00]\n",
      " [ 1.00000000e+00  5.12905315e-01  4.54268058e-01]\n",
      " [ 1.00000000e+00 -7.05420644e-01 -2.34483857e-01]\n",
      " [ 1.00000000e+00  7.39166117e-01  1.38065941e-01]\n",
      " [ 1.00000000e+00 -1.50991915e+00 -9.16170800e-01]\n",
      " [ 1.00000000e+00 -9.04537200e-01  1.21560384e+00]\n",
      " [ 1.00000000e+00 -5.16215210e-01  2.49795582e+00]\n",
      " [ 1.00000000e+00  1.14367092e-01  2.64320760e-02]\n",
      " [ 1.00000000e+00 -7.87458933e-01  1.00723162e+00]\n",
      " [ 1.00000000e+00 -6.26472212e-01 -1.07191653e+00]\n",
      " [ 1.00000000e+00  4.13121182e-02 -1.03259563e-01]\n",
      " [ 1.00000000e+00  5.53952461e-01 -2.03208105e-01]\n",
      " [ 1.00000000e+00 -2.78870867e+00  7.95633039e-01]\n",
      " [ 1.00000000e+00 -1.97800971e+00  1.66302150e+00]\n",
      " [ 1.00000000e+00  1.07598487e+00 -6.12298441e-01]\n",
      " [ 1.00000000e+00 -1.38932223e+00 -1.73508375e+00]\n",
      " [ 1.00000000e+00  2.92726471e-01 -3.51970456e-01]\n",
      " [ 1.00000000e+00 -9.21748309e-01 -3.99775307e-01]\n",
      " [ 1.00000000e+00  1.29654481e+00  2.83518356e-01]\n",
      " [ 1.00000000e+00  1.87934540e-01  7.81212464e-01]\n",
      " [ 1.00000000e+00  4.13071814e-01  1.11044477e+00]\n",
      " [ 1.00000000e+00 -1.01430384e+00 -3.67098020e-01]\n",
      " [ 1.00000000e+00 -1.05582663e+00 -9.41169612e-01]\n",
      " [ 1.00000000e+00  5.14692547e-01 -6.98788650e-01]\n",
      " [ 1.00000000e+00 -4.93087889e-01 -9.19945404e-01]\n",
      " [ 1.00000000e+00 -9.17655658e-01  7.94326891e-01]\n",
      " [ 1.00000000e+00 -7.95488812e-01 -6.76061510e-01]\n",
      " [ 1.00000000e+00 -2.02573105e-02  4.61267135e-01]\n",
      " [ 1.00000000e+00  2.26486647e-01  7.96261795e-02]\n",
      " [ 1.00000000e+00 -1.87563486e+00  6.11516000e-01]\n",
      " [ 1.00000000e+00 -1.63178989e-02  1.06042650e+00]\n",
      " [ 1.00000000e+00 -1.12658771e+00  2.79970657e+00]\n",
      " [ 1.00000000e+00 -1.44520255e+00  7.23392337e-01]\n",
      " [ 1.00000000e+00 -3.89799453e-01 -6.81863230e-01]\n",
      " [ 1.00000000e+00  2.46061494e-01 -4.43770838e-01]\n",
      " [ 1.00000000e+00 -2.35603782e+00 -1.46910462e+00]\n",
      " [ 1.00000000e+00 -4.98961375e-02  2.47232831e+00]\n",
      " [ 1.00000000e+00 -1.65067304e+00 -1.37640324e-01]\n",
      " [ 1.00000000e+00  7.69990458e-01  5.84401166e-01]\n",
      " [ 1.00000000e+00 -7.37854135e-01 -1.76384723e+00]\n",
      " [ 1.00000000e+00 -1.89826501e+00 -9.83697645e-01]\n",
      " [ 1.00000000e+00 -7.31900450e-01 -2.72129050e+00]\n",
      " [ 1.00000000e+00 -1.82604431e+00  2.33434076e-01]\n",
      " [ 1.00000000e+00 -7.65405758e-01 -9.91712826e-01]\n",
      " [ 1.00000000e+00 -7.64189501e-01 -1.05860725e+00]\n",
      " [ 1.00000000e+00  3.38020389e-01  1.78015402e+00]\n",
      " [ 1.00000000e+00  1.28424401e+00  7.03535651e-01]\n",
      " [ 1.00000000e+00  1.89111555e-01  1.57544732e+00]\n",
      " [ 1.00000000e+00  1.00752920e+00  1.57788888e+00]\n",
      " [ 1.00000000e+00  5.73125187e-01 -8.52611523e-01]\n",
      " [ 1.00000000e+00 -1.74845695e+00  8.97242272e-01]\n",
      " [ 1.00000000e+00 -5.05208647e-01 -1.82463782e-01]\n",
      " [ 1.00000000e+00 -1.16204913e+00 -1.62382574e+00]\n",
      " [ 1.00000000e+00  7.29893436e-01  4.20308878e-01]\n",
      " [ 1.00000000e+00 -1.30703492e+00  3.33869338e-01]\n",
      " [ 1.00000000e+00 -1.75435673e-01  4.85992979e-01]\n",
      " [ 1.00000000e+00  1.41605597e+00 -1.58193086e-01]\n",
      " [ 1.00000000e+00 -1.48420164e+00 -7.57301640e-02]\n",
      " [ 1.00000000e+00 -9.61374514e-01  5.16918390e-01]\n",
      " [ 1.00000000e+00 -2.53915657e-01  2.83035028e-01]\n",
      " [ 1.00000000e+00 -8.95899683e-01  3.60789769e-01]\n",
      " [ 1.00000000e+00 -8.49009439e-01  4.80680082e-01]\n",
      " [ 1.00000000e+00 -6.76251138e-01 -1.41253723e+00]\n",
      " [ 1.00000000e+00 -1.61573943e-02 -9.35302033e-01]\n",
      " [ 1.00000000e+00  7.64333059e-01  3.94677241e-01]\n",
      " [ 1.00000000e+00 -4.16011809e-02 -7.24285376e-04]\n",
      " [ 1.00000000e+00 -4.76741452e-01 -2.88053337e+00]\n",
      " [ 1.00000000e+00  5.81288054e-01 -1.06009719e+00]\n",
      " [ 1.00000000e+00  3.61752898e-01 -8.57077067e-01]\n",
      " [ 1.00000000e+00 -5.45905921e-01 -3.77517508e-01]\n",
      " [ 1.00000000e+00 -1.28512556e+00 -3.16773113e-01]\n",
      " [ 1.00000000e+00 -3.44671726e-02 -5.97421472e-01]\n",
      " [ 1.00000000e+00 -1.47137189e+00 -7.81500734e-01]\n",
      " [ 1.00000000e+00 -2.21490195e-01  1.20981343e+00]\n",
      " [ 1.00000000e+00  2.62418017e-01  2.14631350e-01]\n",
      " [ 1.00000000e+00 -1.24970805e+00  9.31661254e-01]\n",
      " [ 1.00000000e+00 -4.07751772e-01 -3.95795999e-01]\n",
      " [ 1.00000000e+00  3.23650228e-01  5.97103629e-01]]\n"
     ]
    }
   ],
   "source": [
    "import numpy as np\n",
    "\n",
    "# Add the \"bias feature\"\n",
    "X_train = np.hstack([np.ones((X_train.shape[0], 1)), X_train])\n",
    "X_test = np.hstack([np.ones((X_test.shape[0], 1)), X_test])\n",
    "\n",
    "print(f'X_train: {X_train}')\n",
    "print(f'X_test: {X_test}')\n",
    "\n",
    "def logit(x: np.ndarray) -> np.ndarray:\n",
    "    return 1 / (1 + np.exp(-x))\n",
    "\n",
    "\n",
    "def likelihood(X: np.ndarray, y: np.ndarray, w: np.ndarray) -> float:\n",
    "    p = logit(X @ w)  # (n, d) @ (d, )\n",
    "    return np.where(y == 1, p, 1 - p).prod()"
   ]
  },
  {
   "cell_type": "markdown",
   "metadata": {},
   "source": [
    "### Maximum likelihood fitting (frequentist)"
   ]
  },
  {
   "cell_type": "markdown",
   "metadata": {},
   "source": [
    "We fit our model $p_{\\textbf{w}}(y |  \\textbf{x})$ by finding parameters $w$ that maximize the likelihood according to our data. For numerical reasons we equivalently maximize the log-likelihood:\n",
    "\n",
    "$$ \\log{p_{\\textbf{w}}(Y |  \\textbf{X})} =  \\log{ \\prod_i {        p_{\\textbf{w}}(y_i |  \\textbf{x}_i)             }} = \\sum_i \\log{p_{\\textbf{w}}(y_i |  \\textbf{x}_i)} = \\sum_i \\log{Bernoulli(y_i; f(\\textbf{w}^{T} \\textbf{x}_i))}$$\n",
    "\n",
    "We can find $w_{ML} = \\argmax_{\\textbf{w}}  \\log{p_{\\textbf{w}}(Y |  \\textbf{X})}$ using numerical optimization, in particular we can use gradient descent:\n",
    "\n",
    "$$ w_{n+1} = w_{n} + \\eta \\nabla_{\\textbf{w}} \\log{p_{\\textbf{w}}(Y |  \\textbf{X})} $$\n",
    "\n",
    "where $\\eta$ is the learning rate. How do we compute the gradient? We can compute it analyticallly, but we can also use automatic differentiation with `pytorch`."
   ]
  },
  {
   "cell_type": "code",
   "execution_count": 46,
   "metadata": {},
   "outputs": [
    {
     "name": "stderr",
     "output_type": "stream",
     "text": [
      "\n",
      "\u001b[A\n",
      "\u001b[A\n",
      "\u001b[A\n",
      "\u001b[A\n",
      "\u001b[A\n",
      "\u001b[A\n",
      "\u001b[A\n",
      "\u001b[A\n",
      "\u001b[A\n",
      "\u001b[A\n",
      "\u001b[A\n",
      "100%|██████████| 5000/5000 [00:01<00:00, 4144.80it/s]"
     ]
    },
    {
     "name": "stdout",
     "output_type": "stream",
     "text": [
      "loss=0.09124\n"
     ]
    },
    {
     "name": "stderr",
     "output_type": "stream",
     "text": [
      "\n"
     ]
    }
   ],
   "source": [
    "import torch\n",
    "from tqdm import tqdm\n",
    "\n",
    "def log_likelihood(*, X: torch.Tensor, y: torch.Tensor, w: torch.Tensor) -> torch.Tensor:\n",
    "    p = torch.sigmoid(X @ w)\n",
    "    return torch.where(y == 1, torch.log(p + 1e-8), torch.log(1 - p + 1e-8)).sum()\n",
    "\n",
    "\n",
    "def gradient_descent_optimization(*, loss_function, lr: float, n_iter: int, initial_guess: np.ndarray) -> np.ndarray:\n",
    "    w = torch.tensor(initial_guess, dtype=torch.float32, requires_grad=True)\n",
    "    for _ in tqdm(range(n_iter)):\n",
    "        loss = loss_function(w)\n",
    "        loss.backward()\n",
    "        with torch.no_grad():\n",
    "            w -= lr * w.grad\n",
    "        w.grad = None\n",
    "    print(f\"loss={ loss.item():.4g}\")\n",
    "    return w.cpu().detach().numpy()\n",
    "\n",
    "X_tensor = torch.tensor(X_train, dtype=torch.float32)\n",
    "y_tensor = torch.tensor(y_train, dtype=torch.float32)\n",
    "loss_function = lambda w: -log_likelihood(X=X_tensor,\n",
    "                                          y=y_tensor,\n",
    "                                          w=w)\n",
    "\n",
    "w_mle = gradient_descent_optimization(loss_function=loss_function,\n",
    "                                      initial_guess=np.zeros(X_train.shape[1]),\n",
    "                                      lr=1e-2,\n",
    "                                      n_iter=5000)"
   ]
  },
  {
   "cell_type": "code",
   "execution_count": 47,
   "metadata": {},
   "outputs": [
    {
     "name": "stderr",
     "output_type": "stream",
     "text": [
      "Exception ignored in: <function tqdm.__del__ at 0x00000217853B6340>\n",
      "Traceback (most recent call last):\n",
      "  File \"c:\\Users\\tomma\\AppData\\Local\\Programs\\Python\\Python312\\Lib\\site-packages\\tqdm\\std.py\", line 1148, in __del__\n",
      "    self.close()\n",
      "  File \"c:\\Users\\tomma\\AppData\\Local\\Programs\\Python\\Python312\\Lib\\site-packages\\tqdm\\notebook.py\", line 279, in close\n",
      "    self.disp(bar_style='danger', check_delay=False)\n",
      "    ^^^^^^^^^\n",
      "AttributeError: 'tqdm_notebook' object has no attribute 'disp'\n"
     ]
    },
    {
     "name": "stdout",
     "output_type": "stream",
     "text": [
      "confusion matrix: \n",
      " [[3 0]\n",
      " [0 1]]\n",
      "mean cross entropy: 0.0228\n"
     ]
    }
   ],
   "source": [
    "# Veryfing the results\n",
    "\n",
    "from sklearn.metrics import confusion_matrix\n",
    "\n",
    "def predict(*, x: np.ndarray, w: np.ndarray) -> np.ndarray:\n",
    "    return logit(x @ w)\n",
    "\n",
    "def mean_cross_entropy(*, y: np.ndarray, pred: np.ndarray) -> float:\n",
    "    return -np.where(y, np.log(pred + 1e-8), np.log(1 - pred + 1e-8)).mean()\n",
    "\n",
    "frequentist_predictions = predict(x=X_train, w=w_mle)\n",
    "print(\"confusion matrix: \\n\", confusion_matrix(y_train, frequentist_predictions > 0.5))\n",
    "print(f\"mean cross entropy: {mean_cross_entropy(y=y_train, pred=frequentist_predictions):.3g}\")"
   ]
  },
  {
   "cell_type": "markdown",
   "metadata": {},
   "source": [
    "### Bayesian inference"
   ]
  },
  {
   "cell_type": "markdown",
   "metadata": {},
   "source": [
    "In Bayesian Inference, we want to compute the **posterior distribution**:\n",
    "$$p(\\textbf{w} | \\mathbf{X}, Y) \\propto p(Y | \\textbf{w}, \\mathbf{X})p(\\textbf{w})$$\n",
    "\n",
    "\n",
    "where $p(\\textbf{w})$ is the prior, and the **predictive distribution**:\n",
    "$$p(y | \\mathbf{x}, \\mathbf{X}, Y) = \\int p(y | \\mathbf{x}, \\textbf{w}) p(\\textbf{w} | \\mathbf{X}, Y) d\\textbf{w}$$\n",
    "\n",
    "notice that $\\mathbf{X}$ is always in the conditioning, we are not interested in its distribution!"
   ]
  },
  {
   "cell_type": "markdown",
   "metadata": {},
   "source": [
    "#### Posterior distribution\n",
    "\n",
    "For the posterior $p(\\textbf{w} | \\mathbf{X}, Y) \\propto p(Y | \\textbf{w}, \\mathbf{X})p(\\textbf{w})$ we resort to the **Laplace Approximation**:\n",
    "\n",
    "$$p(\\textbf{w} | \\mathbf{X}, Y) \\approx \\mathcal{N}(\\textbf{w}; \\mu_D, \\Sigma_D)$$\n",
    "\n",
    "where $\\mu_D = \\textbf{w}_{MAP}$ and $\\Sigma_D =  \\left( - \\nabla_w \\nabla_w \\log{p(\\textbf{w}_{MAP} | Y , \\mathbf{X})} \\right)^{-1}$\n",
    "\n",
    "where $\\textbf{w}_{MAP} = \\argmax_{\\textbf{w}} \\left[ p(\\textbf{w} | \\mathbf{X}, Y) \\right]$ is the **maximum a posteriori**, equivalently $\\textbf{w}_{MAP} = \\argmax_{\\textbf{w}}  \\left[ \\log{p(Y | \\textbf{w}, \\mathbf{X})} + \\log{p(\\textbf{w})} \\right]$\n"
   ]
  },
  {
   "cell_type": "code",
   "execution_count": null,
   "metadata": {},
   "outputs": [],
   "source": [
    "# We can assume a Gaussian prior for the weights, with zero mean and a certain diagonal covariance matrix\n",
    "from torch.distributions import Normal\n",
    "\n",
    "PRIOR_STD = 100\n",
    "\n",
    "def log_prior(w):\n",
    "    return Normal(0, PRIOR_STD).log_prob(w).sum()\n",
    "\n",
    "def log_unnormalized_posterior(*, X, y, w):\n",
    "    return log_likelihood(X=X, y=y, w=w) + log_prior(w)\n",
    "\n",
    "loss_function = lambda w: -(log_unnormalized_posterior(X=X_tensor, y=y_tensor, w=w))\n",
    "\n",
    "w_map = gradient_descent_optimization(loss_function=loss_function,\n",
    "                                      initial_guess=np.zeros(X_train.shape[1]),\n",
    "                                      lr=1e-2,\n",
    "                                      n_iter=5000)"
   ]
  },
  {
   "cell_type": "code",
   "execution_count": null,
   "metadata": {},
   "outputs": [],
   "source": [
    "def compute_hessian(*, f, w):\n",
    "    w.requires_grad = True\n",
    "    grad = torch.autograd.grad(f(w), w, create_graph=True)[0]\n",
    "    hessian = torch.zeros((w.numel(), w.numel()))\n",
    "    for i in range(w.numel()):\n",
    "        hessian[i] = torch.autograd.grad(grad[i], w, retain_graph=True)[0]\n",
    "    w.requires_grad = False\n",
    "    return hessian\n",
    "\n",
    "hessian = compute_hessian(f=lambda w : log_unnormalized_posterior(X=X_tensor, y=y_tensor, w=w), w=torch.tensor(w_map, dtype=torch.float32))\n",
    "posterior_cov = torch.inverse(-hessian).numpy()"
   ]
  },
  {
   "cell_type": "code",
   "execution_count": null,
   "metadata": {},
   "outputs": [],
   "source": [
    "w_map"
   ]
  },
  {
   "cell_type": "code",
   "execution_count": null,
   "metadata": {},
   "outputs": [],
   "source": [
    "posterior_cov"
   ]
  },
  {
   "cell_type": "markdown",
   "metadata": {},
   "source": [
    "#### Predictive distribution\n",
    "\n",
    "The approximation for the **predictive distribution** follows from the Laplace approximation of the posterior approximation (see lecture's notes for more details):\n",
    "$$p(y | \\mathbf{x}, \\mathbf{X}, Y) \\approx f\\left(\\kappa\\left(\\sigma_a^2\\right) \\mu_a\\right)$$\n",
    "\n",
    "where $\\kappa\\left(\\sigma_a^2\\right)=\\left(1+\\pi \\frac{\\sigma_a^2}{8}\\right)^{-\\frac{1}{2}}$ and $\\mu_a$ and $\\sigma_a^2$ are the mean and variance of the linear combination of the gaussian posterior with the observation $\\mathbf{x}$.\n",
    "\n",
    "So $\\mu_a = \\mathbf{\\mu}_{D}^T \\mathbf{x}$ and $\\sigma_a^2 = \\mathbf{x}^T \\Sigma_{D} \\mathbf{x}$"
   ]
  },
  {
   "cell_type": "code",
   "execution_count": null,
   "metadata": {},
   "outputs": [],
   "source": [
    "def laplace_predictive_distribution(*, x, posterior_mean, posterior_cov):\n",
    "    mu = x @ posterior_mean # (n, d) @ (d, )\n",
    "    var = np.diag(x @ posterior_cov @ x.T)\n",
    "    #var = np.array([X[i] @ posterior_cov @ X[i].T for i in range(len(X))])\n",
    "    k = (1 + np.pi*var/8)**(-0.5)    \n",
    "    return logit(mu * k)\n",
    "\n",
    "bayesian_predictions = laplace_predictive_distribution(x=X_test, posterior_mean=w_map, posterior_cov=posterior_cov)"
   ]
  },
  {
   "cell_type": "code",
   "execution_count": null,
   "metadata": {},
   "outputs": [],
   "source": [
    "X = {\"train\": X_train, \"test\": X_test}\n",
    "y = {\"train\": y_train, \"test\": y_test}\n",
    "\n",
    "freq_weights = w_map\n",
    "\n",
    "predictor = {\"frequentist\": lambda x : predict(x=x, w=freq_weights),\n",
    "             \"bayesian\": lambda x :  laplace_predictive_distribution(x=x, posterior_mean=w_map, posterior_cov=posterior_cov)}\n",
    "\n",
    "for data in ('train', 'test'):\n",
    "    for model in ('frequentist', 'bayesian'):\n",
    "        pred = predictor[model](X[data])\n",
    "        print(f\"{model} {data} mean cross entropy: {mean_cross_entropy(y=y[data], pred=pred):.2f}\")\n",
    "        cm = confusion_matrix(y[data], pred > 0.5) / len(y[data])\n",
    "        #print(f\"{model} {data} confusion matrix: \\n\", np.round(cm,2))\n",
    "        print(f\"{model} {data} accuracy: {(cm[0,0] + cm[1,1]):.1%}\")\n",
    "        print()"
   ]
  },
  {
   "cell_type": "code",
   "execution_count": null,
   "metadata": {},
   "outputs": [],
   "source": [
    "import matplotlib.pyplot as plt\n",
    "plt.rcParams[\"figure.figsize\"] = (8,4)\n",
    "plt.rcParams[\"figure.dpi\"] = 100\n",
    "\n",
    "def plot_train_data(X, y):\n",
    "    plt.scatter(X[y==1][:,1], X_train[y==1][:,2], c = 'red', marker='x', label='1')\n",
    "    plt.scatter(X[y==0][:,1], X_train[y==0][:,2], c = 'red', marker='o', label='0')\n",
    "    plt.legend()\n",
    "\n",
    "def binary_crossentropy(*, true: np.ndarray, pred: np.ndarray):\n",
    "    return -np.where(true, np.log(pred + 1e-8), np.log(1 - pred + 1e-8)).mean()"
   ]
  },
  {
   "cell_type": "code",
   "execution_count": null,
   "metadata": {},
   "outputs": [],
   "source": [
    "plt.scatter(X_test[:,1], X_test[:,2], c = y_test, alpha = 0.8)\n",
    "plot_train_data(X_train, y_train)\n",
    "_ = plt.colorbar()"
   ]
  },
  {
   "cell_type": "code",
   "execution_count": null,
   "metadata": {},
   "outputs": [],
   "source": [
    "pred = laplace_predictive_distribution(x=X_test, posterior_mean=w_map, posterior_cov=posterior_cov)\n",
    "error = binary_crossentropy(true=y_test, pred=pred)\n",
    "plt.scatter(X_test[:,1], X_test[:,2], c = pred, alpha = 0.8)\n",
    "plot_train_data(X_train, y_train)\n",
    "_ = plt.colorbar()"
   ]
  },
  {
   "cell_type": "code",
   "execution_count": null,
   "metadata": {},
   "outputs": [],
   "source": [
    "pred = predict(x=X_test, w=freq_weights)\n",
    "error = binary_crossentropy(true=y_test, pred=pred)\n",
    "plt.scatter(X_test[:,1], X_test[:,2], c = pred, alpha = 0.8)\n",
    "plot_train_data(X_train, y_train)\n",
    "_ = plt.colorbar()"
   ]
  },
  {
   "cell_type": "markdown",
   "metadata": {},
   "source": [
    "### Exercises"
   ]
  },
  {
   "cell_type": "markdown",
   "metadata": {},
   "source": [
    "1. Try to repeat the analysis using more points"
   ]
  },
  {
   "cell_type": "markdown",
   "metadata": {},
   "source": [
    "2. Try to repeat the analysis on the following dataset"
   ]
  },
  {
   "cell_type": "code",
   "execution_count": null,
   "metadata": {},
   "outputs": [],
   "source": [
    "from sklearn.datasets import load_breast_cancer\n",
    "data = load_breast_cancer()\n",
    "X = data.data\n",
    "y = data.target "
   ]
  },
  {
   "cell_type": "code",
   "execution_count": null,
   "metadata": {},
   "outputs": [],
   "source": []
  }
 ],
 "metadata": {
  "kernelspec": {
   "display_name": "Python 3",
   "language": "python",
   "name": "python3"
  },
  "language_info": {
   "codemirror_mode": {
    "name": "ipython",
    "version": 3
   },
   "file_extension": ".py",
   "mimetype": "text/x-python",
   "name": "python",
   "nbconvert_exporter": "python",
   "pygments_lexer": "ipython3",
   "version": "3.12.6"
  }
 },
 "nbformat": 4,
 "nbformat_minor": 2
}
